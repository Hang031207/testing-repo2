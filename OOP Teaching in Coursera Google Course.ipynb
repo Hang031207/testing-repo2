{
 "cells": [
  {
   "cell_type": "markdown",
   "metadata": {},
   "source": [
    "# OOP teaching in Coursera Google Course"
   ]
  }
 ],
 "metadata": {
  "language_info": {
   "name": "python"
  }
 },
 "nbformat": 4,
 "nbformat_minor": 2
}
