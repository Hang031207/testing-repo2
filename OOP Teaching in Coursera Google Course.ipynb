{
 "cells": [
  {
   "cell_type": "markdown",
   "metadata": {},
   "source": [
    "# OOP teaching in Coursera Google Course"
   ]
  },
  {
   "cell_type": "markdown",
   "metadata": {},
   "source": [
    "Methods in Python fall into several categories:\n",
    "\n",
    ">> Instance methods  \n",
    ">> Class methods  \n",
    ">> Static methods  "
   ]
  },
  {
   "cell_type": "markdown",
   "metadata": {},
   "source": [
    "## Instance methods"
   ]
  },
  {
   "cell_type": "markdown",
   "metadata": {},
   "source": [
    "Most common type of methods in Python.  \n",
    "Instance method will need to take in datas given from the instantiated object, often called self"
   ]
  },
  {
   "cell_type": "markdown",
   "metadata": {},
   "source": [
    "## Static Methods"
   ]
  },
  {
   "cell_type": "markdown",
   "metadata": {},
   "source": [
    "Static methods are methods that don't have access to any datas from the instantiated object, i.e. they don't need to take in self parameter.  \n",
    "Due to this property, static methods can be called without needing to create an instance first"
   ]
  },
  {
   "cell_type": "markdown",
   "metadata": {},
   "source": [
    "## Class Methods"
   ]
  },
  {
   "cell_type": "markdown",
   "metadata": {},
   "source": [
    "Class methods are called for the class itslef instead of an instance"
   ]
  },
  {
   "cell_type": "code",
   "execution_count": 2,
   "metadata": {},
   "outputs": [
    {
     "name": "stdout",
     "output_type": "stream",
     "text": [
      "17.5\n",
      "If you laugh you fail, if you breath you fail!\n",
      "Foon Yew High School\n"
     ]
    }
   ],
   "source": [
    "class Student:\n",
    "    def __init__(self,a,b,):\n",
    "        self.a=a\n",
    "        self.b=b\n",
    "    \n",
    "    def avg(self):\n",
    "        return (self.a+self.b)/2\n",
    "    \n",
    "    @staticmethod\n",
    "    def notice():\n",
    "        return \"If you laugh you fail, if you breath you fail!\"\n",
    "    \n",
    "    name = \"Foon Yew High School\"\n",
    "    \n",
    "    @classmethod\n",
    "    def info(cls):\n",
    "        return cls.name\n",
    "    \n",
    "\n",
    "sally = Student(10,25)\n",
    "print(sally.avg())\n",
    "print(sally.notice())\n",
    "print(sally.info())"
   ]
  }
 ],
 "metadata": {
  "kernelspec": {
   "display_name": "Python 3",
   "language": "python",
   "name": "python3"
  },
  "language_info": {
   "codemirror_mode": {
    "name": "ipython",
    "version": 3
   },
   "file_extension": ".py",
   "mimetype": "text/x-python",
   "name": "python",
   "nbconvert_exporter": "python",
   "pygments_lexer": "ipython3",
   "version": "3.11.9"
  }
 },
 "nbformat": 4,
 "nbformat_minor": 2
}
